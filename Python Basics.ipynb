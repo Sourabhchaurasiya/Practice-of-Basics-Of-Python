{
  "nbformat": 4,
  "nbformat_minor": 0,
  "metadata": {
    "colab": {
      "provenance": []
    },
    "kernelspec": {
      "name": "python3",
      "display_name": "Python 3"
    },
    "language_info": {
      "name": "python"
    }
  },
  "cells": [
    {
      "cell_type": "markdown",
      "source": [
        "# RBR Python Started"
      ],
      "metadata": {
        "id": "6yHfCowGI_6B"
      }
    },
    {
      "cell_type": "code",
      "source": [],
      "metadata": {
        "id": "nSHPBuGAJD20"
      },
      "execution_count": null,
      "outputs": []
    },
    {
      "cell_type": "code",
      "execution_count": null,
      "metadata": {
        "colab": {
          "base_uri": "https://localhost:8080/"
        },
        "id": "5uKKoEJKZse3",
        "outputId": "a4ac7b32-c3ad-434e-951d-d9cd0e341fe8"
      },
      "outputs": [
        {
          "output_type": "stream",
          "name": "stdout",
          "text": [
            "Hello World Sourabh Chaurasiya\n"
          ]
        }
      ],
      "source": [
        "\n",
        "print(\"Hello World\",end=\" \")\n",
        "print(\"Sourabh Chaurasiya\")"
      ]
    },
    {
      "cell_type": "code",
      "source": [
        "#use case of endl\n",
        "print(\"Sourabh Chaurasiya\" , end=\"\\n\\n\\n\")\n",
        "print(\"Shivam Sharan\")"
      ],
      "metadata": {
        "colab": {
          "base_uri": "https://localhost:8080/"
        },
        "id": "W7UmJ-GPZ2ON",
        "outputId": "bfd8ea2d-3718-4a7f-b98e-5104e7b42322"
      },
      "execution_count": null,
      "outputs": [
        {
          "output_type": "stream",
          "name": "stdout",
          "text": [
            "Sourabh Chaurasiya\n",
            "\n",
            "\n",
            "Shivam Sharan\n"
          ]
        }
      ]
    },
    {
      "cell_type": "code",
      "source": [
        "#usecase of seperator\n",
        "\n",
        "print(\"Shiva\",\"rahul\",\"Pankaj\",\"aprul \",sep=\"\")"
      ],
      "metadata": {
        "colab": {
          "base_uri": "https://localhost:8080/"
        },
        "id": "0Ojh5MGRd5KQ",
        "outputId": "ecbe6e14-6307-4da6-90cc-a5a8f67430af"
      },
      "execution_count": null,
      "outputs": [
        {
          "output_type": "stream",
          "name": "stdout",
          "text": [
            "ShivarahulPankajaprul \n"
          ]
        }
      ]
    },
    {
      "cell_type": "code",
      "source": [
        "2+55\n"
      ],
      "metadata": {
        "colab": {
          "base_uri": "https://localhost:8080/"
        },
        "id": "lGmhS2mKeAXr",
        "outputId": "7fa48a40-0de0-44c2-f6a9-ebab0ce5d855"
      },
      "execution_count": null,
      "outputs": [
        {
          "output_type": "execute_result",
          "data": {
            "text/plain": [
              "57"
            ]
          },
          "metadata": {},
          "execution_count": 13
        }
      ]
    },
    {
      "cell_type": "code",
      "source": [
        "value=100"
      ],
      "metadata": {
        "id": "MgahvJM9hdR7"
      },
      "execution_count": null,
      "outputs": []
    },
    {
      "cell_type": "code",
      "source": [
        "id(value)"
      ],
      "metadata": {
        "colab": {
          "base_uri": "https://localhost:8080/"
        },
        "id": "d2ILO_Dainv0",
        "outputId": "7c17b2cf-e264-44eb-f32d-90af66eb7c4a"
      },
      "execution_count": null,
      "outputs": [
        {
          "output_type": "execute_result",
          "data": {
            "text/plain": [
              "135523993013584"
            ]
          },
          "metadata": {},
          "execution_count": 15
        }
      ]
    },
    {
      "cell_type": "code",
      "source": [
        "type(value)"
      ],
      "metadata": {
        "colab": {
          "base_uri": "https://localhost:8080/"
        },
        "id": "pv2wfie9ipJv",
        "outputId": "bd0899a3-9bd4-40e2-d4d4-1f0e4905b73b"
      },
      "execution_count": null,
      "outputs": [
        {
          "output_type": "execute_result",
          "data": {
            "text/plain": [
              "int"
            ]
          },
          "metadata": {},
          "execution_count": 16
        }
      ]
    },
    {
      "cell_type": "code",
      "source": [
        "a=100\n",
        "id(a)"
      ],
      "metadata": {
        "colab": {
          "base_uri": "https://localhost:8080/"
        },
        "id": "6OooMGISi9ga",
        "outputId": "fce50f56-d4e0-4b09-8032-c8c8f883b130"
      },
      "execution_count": null,
      "outputs": [
        {
          "output_type": "execute_result",
          "data": {
            "text/plain": [
              "135523993013584"
            ]
          },
          "metadata": {},
          "execution_count": 18
        }
      ]
    },
    {
      "cell_type": "code",
      "source": [
        "a=100\n",
        "b=100\n",
        "print(id(a))\n",
        "print(id(b))\n",
        "print(\"after changing\")\n",
        "b=b+29\n",
        "print(\"b:\",b)\n",
        "print(id(a))\n",
        "print(id(b))\n",
        "a=a+29\n",
        "print(id(a))\n",
        "print(id(b))\n"
      ],
      "metadata": {
        "colab": {
          "base_uri": "https://localhost:8080/"
        },
        "id": "ljnksjbejLB5",
        "outputId": "0cf6f131-ef6e-4a93-9a8f-4f1391182a11"
      },
      "execution_count": null,
      "outputs": [
        {
          "output_type": "stream",
          "name": "stdout",
          "text": [
            "135523993013584\n",
            "135523993013584\n",
            "after changing\n",
            "b: 129\n",
            "135523993013584\n",
            "135523993014512\n",
            "135523993014512\n",
            "135523993014512\n"
          ]
        }
      ]
    },
    {
      "cell_type": "code",
      "source": [
        "b\n"
      ],
      "metadata": {
        "colab": {
          "base_uri": "https://localhost:8080/"
        },
        "id": "TDN8Lc0djyjq",
        "outputId": "0d3661c0-ee89-4836-81aa-f989d0ee559f"
      },
      "execution_count": null,
      "outputs": [
        {
          "output_type": "execute_result",
          "data": {
            "text/plain": [
              "129"
            ]
          },
          "metadata": {},
          "execution_count": 21
        }
      ]
    },
    {
      "cell_type": "code",
      "source": [
        "del a"
      ],
      "metadata": {
        "id": "jg1QmGiPkMbV"
      },
      "execution_count": null,
      "outputs": []
    },
    {
      "cell_type": "code",
      "source": [
        "print(b)"
      ],
      "metadata": {
        "colab": {
          "base_uri": "https://localhost:8080/"
        },
        "id": "x8--6q2mkPjO",
        "outputId": "d5f2c5fe-18a4-4bf6-f513-b25222b9731f"
      },
      "execution_count": null,
      "outputs": [
        {
          "output_type": "stream",
          "name": "stdout",
          "text": [
            "129\n"
          ]
        }
      ]
    },
    {
      "cell_type": "code",
      "source": [
        "print(\"Machine Learning Engineer at Google\")"
      ],
      "metadata": {
        "colab": {
          "base_uri": "https://localhost:8080/"
        },
        "id": "8QWGwSrPkRPJ",
        "outputId": "a2d5ca10-25fd-4207-f32c-24b2ca7ea542"
      },
      "execution_count": null,
      "outputs": [
        {
          "output_type": "stream",
          "name": "stdout",
          "text": [
            "Machine Learning Engineer at Google\n"
          ]
        }
      ]
    },
    {
      "cell_type": "code",
      "source": [
        "import keyword\n",
        "keyword.kwlist\n"
      ],
      "metadata": {
        "colab": {
          "base_uri": "https://localhost:8080/"
        },
        "id": "D6DFALGal6yh",
        "outputId": "0ec695e8-12b5-4231-d76c-19cf635e818c"
      },
      "execution_count": null,
      "outputs": [
        {
          "output_type": "execute_result",
          "data": {
            "text/plain": [
              "['False',\n",
              " 'None',\n",
              " 'True',\n",
              " 'and',\n",
              " 'as',\n",
              " 'assert',\n",
              " 'async',\n",
              " 'await',\n",
              " 'break',\n",
              " 'class',\n",
              " 'continue',\n",
              " 'def',\n",
              " 'del',\n",
              " 'elif',\n",
              " 'else',\n",
              " 'except',\n",
              " 'finally',\n",
              " 'for',\n",
              " 'from',\n",
              " 'global',\n",
              " 'if',\n",
              " 'import',\n",
              " 'in',\n",
              " 'is',\n",
              " 'lambda',\n",
              " 'nonlocal',\n",
              " 'not',\n",
              " 'or',\n",
              " 'pass',\n",
              " 'raise',\n",
              " 'return',\n",
              " 'try',\n",
              " 'while',\n",
              " 'with',\n",
              " 'yield']"
            ]
          },
          "metadata": {},
          "execution_count": 28
        }
      ]
    },
    {
      "cell_type": "code",
      "source": [
        "len(keyword.kwlist)"
      ],
      "metadata": {
        "colab": {
          "base_uri": "https://localhost:8080/"
        },
        "id": "mTfcDXqFqM9W",
        "outputId": "8212dc85-f4df-4546-b87f-f0a3ca0ada80"
      },
      "execution_count": null,
      "outputs": [
        {
          "output_type": "execute_result",
          "data": {
            "text/plain": [
              "35"
            ]
          },
          "metadata": {},
          "execution_count": 29
        }
      ]
    },
    {
      "cell_type": "markdown",
      "source": [
        "**strings**\n"
      ],
      "metadata": {
        "id": "dJY3E63WsrHP"
      }
    },
    {
      "cell_type": "code",
      "source": [
        "message=\"I have watched 'Indian Idol' yesterday\""
      ],
      "metadata": {
        "id": "D_xXuH0dstP8"
      },
      "execution_count": null,
      "outputs": []
    },
    {
      "cell_type": "code",
      "source": [
        "print(message)"
      ],
      "metadata": {
        "colab": {
          "base_uri": "https://localhost:8080/"
        },
        "id": "lQwHj79Mvnff",
        "outputId": "62e3b0d7-05b9-4d2a-e313-1c76c025313c"
      },
      "execution_count": null,
      "outputs": [
        {
          "output_type": "stream",
          "name": "stdout",
          "text": [
            "I have watched 'Indian Idol' yesterday\n"
          ]
        }
      ]
    },
    {
      "cell_type": "code",
      "source": [
        "print(\"Hello G\")"
      ],
      "metadata": {
        "colab": {
          "base_uri": "https://localhost:8080/"
        },
        "id": "ksJZgAXpvqSP",
        "outputId": "9c7b790c-1802-4224-e3c5-af7f8774c893"
      },
      "execution_count": null,
      "outputs": [
        {
          "output_type": "stream",
          "name": "stdout",
          "text": [
            "Hello G\n"
          ]
        }
      ]
    },
    {
      "cell_type": "code",
      "source": [
        "print(\"Hello G\")\n"
      ],
      "metadata": {
        "colab": {
          "base_uri": "https://localhost:8080/"
        },
        "id": "q7thsHPa1d34",
        "outputId": "2e712fe9-06aa-4b46-c9de-10ca6d19ae84"
      },
      "execution_count": null,
      "outputs": [
        {
          "output_type": "stream",
          "name": "stdout",
          "text": [
            "Hello G\n"
          ]
        }
      ]
    },
    {
      "cell_type": "code",
      "source": [
        "print(\"Print\")"
      ],
      "metadata": {
        "colab": {
          "base_uri": "https://localhost:8080/"
        },
        "id": "fiRMGm2iaEKZ",
        "outputId": "b43e2598-d3b9-441e-e021-a7056738b4ec"
      },
      "execution_count": null,
      "outputs": [
        {
          "output_type": "stream",
          "name": "stdout",
          "text": [
            "Print\n"
          ]
        }
      ]
    },
    {
      "cell_type": "code",
      "source": [
        "print(\"Bhagat_Singh 20Lpa\")"
      ],
      "metadata": {
        "id": "_eGEmZeijWky",
        "colab": {
          "base_uri": "https://localhost:8080/"
        },
        "outputId": "e49a0daa-b720-49c1-9ef2-91a6eb29c04a"
      },
      "execution_count": null,
      "outputs": [
        {
          "output_type": "stream",
          "name": "stdout",
          "text": [
            "Bhagat_Singh 20Lpa\n"
          ]
        }
      ]
    },
    {
      "cell_type": "code",
      "source": [
        "  print(\"Sourabh Chaurasiya 40 Lpa\")"
      ],
      "metadata": {
        "colab": {
          "base_uri": "https://localhost:8080/"
        },
        "id": "WoEo9JC7Xm79",
        "outputId": "9ed38902-1b4c-4d0c-c53d-b928ec3df849"
      },
      "execution_count": null,
      "outputs": [
        {
          "output_type": "stream",
          "name": "stdout",
          "text": [
            "Sourabh Chaurasiya 40 Lpa\n"
          ]
        }
      ]
    },
    {
      "cell_type": "code",
      "source": [
        "print(\"30November 2k24\")"
      ],
      "metadata": {
        "colab": {
          "base_uri": "https://localhost:8080/"
        },
        "id": "tvwgcZ2C0vQ7",
        "outputId": "728a4821-9ec2-4bbc-f862-9863d9e72986"
      },
      "execution_count": null,
      "outputs": [
        {
          "output_type": "stream",
          "name": "stdout",
          "text": [
            "30November 2k24\n"
          ]
        }
      ]
    },
    {
      "cell_type": "markdown",
      "source": [
        "#Variables"
      ],
      "metadata": {
        "id": "cWs50NgC0yn3"
      }
    },
    {
      "cell_type": "code",
      "source": [
        "print(\"abc\");print(\"Sourabh\");print(\"Chaurasiya\")"
      ],
      "metadata": {
        "colab": {
          "base_uri": "https://localhost:8080/"
        },
        "id": "Z3v_2kIs00ID",
        "outputId": "aaea5f01-9a6d-447b-eeb1-626d145c6023"
      },
      "execution_count": null,
      "outputs": [
        {
          "output_type": "stream",
          "name": "stdout",
          "text": [
            "abc\n",
            "Sourabh\n",
            "Chaurasiya\n"
          ]
        }
      ]
    },
    {
      "cell_type": "code",
      "source": [
        "#indentation\n",
        "print(\"Indentation is very important here\")"
      ],
      "metadata": {
        "colab": {
          "base_uri": "https://localhost:8080/"
        },
        "id": "6wCDPzn61HzR",
        "outputId": "ab3e7b85-834c-46ec-b3bf-af47a5bf7626"
      },
      "execution_count": null,
      "outputs": [
        {
          "output_type": "stream",
          "name": "stdout",
          "text": [
            "Indentation is very important here\n"
          ]
        }
      ]
    },
    {
      "cell_type": "code",
      "source": [
        "#space not allowed\n",
        "leaving_message=\"Going from your world soon\"\n",
        "print(leaving_message)"
      ],
      "metadata": {
        "colab": {
          "base_uri": "https://localhost:8080/"
        },
        "id": "8kisczgY1cTt",
        "outputId": "1350cd18-ae9f-42e0-e5d0-ad9cd80760ed"
      },
      "execution_count": null,
      "outputs": [
        {
          "output_type": "stream",
          "name": "stdout",
          "text": [
            "Going from your world soon\n"
          ]
        }
      ]
    },
    {
      "cell_type": "code",
      "source": [
        "_=173\n",
        "print(_)"
      ],
      "metadata": {
        "colab": {
          "base_uri": "https://localhost:8080/"
        },
        "id": "Ddi0b9XB3X2d",
        "outputId": "7d3a7775-20a5-4c5c-8654-a58b486462d9"
      },
      "execution_count": null,
      "outputs": [
        {
          "output_type": "stream",
          "name": "stdout",
          "text": [
            "173\n"
          ]
        }
      ]
    },
    {
      "cell_type": "code",
      "source": [
        "print(\"See the magic From Today\")"
      ],
      "metadata": {
        "colab": {
          "base_uri": "https://localhost:8080/"
        },
        "id": "OVz5i4FfUVRZ",
        "outputId": "bf63a313-84b4-4410-abcd-1d745e884b1f"
      },
      "execution_count": null,
      "outputs": [
        {
          "output_type": "stream",
          "name": "stdout",
          "text": [
            "See the magic From Today\n"
          ]
        }
      ]
    },
    {
      "cell_type": "code",
      "source": [
        "import keyword\n",
        "keyword.kwlist"
      ],
      "metadata": {
        "colab": {
          "base_uri": "https://localhost:8080/"
        },
        "id": "xCYgGBXW3oVS",
        "outputId": "0eba2bac-55b0-47b6-d55c-06c9948a8972"
      },
      "execution_count": null,
      "outputs": [
        {
          "output_type": "execute_result",
          "data": {
            "text/plain": [
              "['False',\n",
              " 'None',\n",
              " 'True',\n",
              " 'and',\n",
              " 'as',\n",
              " 'assert',\n",
              " 'async',\n",
              " 'await',\n",
              " 'break',\n",
              " 'class',\n",
              " 'continue',\n",
              " 'def',\n",
              " 'del',\n",
              " 'elif',\n",
              " 'else',\n",
              " 'except',\n",
              " 'finally',\n",
              " 'for',\n",
              " 'from',\n",
              " 'global',\n",
              " 'if',\n",
              " 'import',\n",
              " 'in',\n",
              " 'is',\n",
              " 'lambda',\n",
              " 'nonlocal',\n",
              " 'not',\n",
              " 'or',\n",
              " 'pass',\n",
              " 'raise',\n",
              " 'return',\n",
              " 'try',\n",
              " 'while',\n",
              " 'with',\n",
              " 'yield']"
            ]
          },
          "metadata": {},
          "execution_count": 11
        }
      ]
    },
    {
      "cell_type": "code",
      "source": [
        "len(keyword.kwlist)"
      ],
      "metadata": {
        "colab": {
          "base_uri": "https://localhost:8080/"
        },
        "id": "ypyjVF-Q3xGA",
        "outputId": "7b9da2c2-9b54-4b0e-f84f-3d305c6d91bf"
      },
      "execution_count": null,
      "outputs": [
        {
          "output_type": "execute_result",
          "data": {
            "text/plain": [
              "35"
            ]
          },
          "metadata": {},
          "execution_count": 12
        }
      ]
    },
    {
      "cell_type": "code",
      "source": [
        "student_name=\"Sourabh Chaurasiya\"\n",
        "name_length=len(student_name)\n",
        "print(name_length)"
      ],
      "metadata": {
        "colab": {
          "base_uri": "https://localhost:8080/"
        },
        "id": "2-ftBUZQ5YtU",
        "outputId": "2a97b467-fd7c-4e9d-9241-623c59378d54"
      },
      "execution_count": null,
      "outputs": [
        {
          "output_type": "stream",
          "name": "stdout",
          "text": [
            "18\n"
          ]
        }
      ]
    },
    {
      "cell_type": "code",
      "source": [
        "#try to avoid capital letter while assigning\n",
        "NAMING =\"sourbh's Naming \"\n",
        "print(NAMING)"
      ],
      "metadata": {
        "id": "C7hZh0WlHavD",
        "colab": {
          "base_uri": "https://localhost:8080/"
        },
        "outputId": "4cae7be0-eb1c-436a-8e10-908c8e4614f2"
      },
      "execution_count": null,
      "outputs": [
        {
          "output_type": "stream",
          "name": "stdout",
          "text": [
            "sourbh's Naming \n"
          ]
        }
      ]
    },
    {
      "cell_type": "code",
      "source": [
        "#single line commments\n",
        "\"\"\" i am lining multi-line comments here in 2nd class\"\"\""
      ],
      "metadata": {
        "colab": {
          "base_uri": "https://localhost:8080/",
          "height": 36
        },
        "id": "BYeIJFyBWSle",
        "outputId": "06be7471-0101-482f-eb5f-6e282374c571"
      },
      "execution_count": null,
      "outputs": [
        {
          "output_type": "execute_result",
          "data": {
            "text/plain": [
              "' i am lining multi-line comments here in 2nd class'"
            ],
            "application/vnd.google.colaboratory.intrinsic+json": {
              "type": "string"
            }
          },
          "metadata": {},
          "execution_count": 4
        }
      ]
    },
    {
      "cell_type": "code",
      "source": [],
      "metadata": {
        "id": "eBRmaWeLXvLj"
      },
      "execution_count": null,
      "outputs": []
    },
    {
      "cell_type": "markdown",
      "source": [
        "DataTypes\n"
      ],
      "metadata": {
        "id": "SRdG2dWeXwYz"
      }
    },
    {
      "cell_type": "code",
      "source": [
        "#a string is a series of characters\n",
        "new_string =\"This is a string\"\n",
        "new_string_2=\"This is a string\"\n",
        "print(new_string)\n",
        "print(new_string_2)"
      ],
      "metadata": {
        "colab": {
          "base_uri": "https://localhost:8080/"
        },
        "id": "HBn0d-KbXx3g",
        "outputId": "bcb73bc9-a507-445d-d31d-ee42ceaccc6b"
      },
      "execution_count": null,
      "outputs": [
        {
          "output_type": "stream",
          "name": "stdout",
          "text": [
            "This is a string:\n",
            "This is a string\n"
          ]
        }
      ]
    },
    {
      "cell_type": "code",
      "source": [
        "print(new_string_2)\n",
        "print(type(new_string))\n",
        "print(type(new_string_2))\n"
      ],
      "metadata": {
        "colab": {
          "base_uri": "https://localhost:8080/"
        },
        "id": "uRgbINhfYB0j",
        "outputId": "7a706371-231d-4123-9d0c-a0dfa3f5ae22"
      },
      "execution_count": null,
      "outputs": [
        {
          "output_type": "stream",
          "name": "stdout",
          "text": [
            "This is a string\n",
            "<class 'str'>\n",
            "<class 'str'>\n"
          ]
        }
      ]
    },
    {
      "cell_type": "code",
      "source": [
        "print(id(new_string))\n",
        "print(id(new_string_2))"
      ],
      "metadata": {
        "colab": {
          "base_uri": "https://localhost:8080/"
        },
        "id": "1P4tMIVGYNbc",
        "outputId": "eac9b9cf-3dfc-49a6-a634-67ac700f39ca"
      },
      "execution_count": null,
      "outputs": [
        {
          "output_type": "stream",
          "name": "stdout",
          "text": [
            "136116965558112\n",
            "136116477312208\n"
          ]
        }
      ]
    },
    {
      "cell_type": "code",
      "source": [
        "name=\"Sourabh\"\n",
        "name_2=\"Sourabh\"\n",
        "print(id(name))\n",
        "print(id(name_2))"
      ],
      "metadata": {
        "colab": {
          "base_uri": "https://localhost:8080/"
        },
        "id": "PfWv2VNEYU2C",
        "outputId": "f524d898-7103-44b6-8232-fa2641c35b56"
      },
      "execution_count": null,
      "outputs": [
        {
          "output_type": "stream",
          "name": "stdout",
          "text": [
            "136116954875056\n",
            "136116954875056\n"
          ]
        }
      ]
    },
    {
      "cell_type": "code",
      "source": [],
      "metadata": {
        "id": "S6qNK6RQZUma"
      },
      "execution_count": null,
      "outputs": []
    },
    {
      "cell_type": "markdown",
      "source": [
        "**Numeric**"
      ],
      "metadata": {
        "id": "eF85hRCr05mE"
      }
    },
    {
      "cell_type": "code",
      "source": [
        "value=10\n",
        "print(type(value))"
      ],
      "metadata": {
        "colab": {
          "base_uri": "https://localhost:8080/"
        },
        "id": "COWohB1O07QN",
        "outputId": "689b402b-8802-466d-88ad-a9254e49d6da"
      },
      "execution_count": null,
      "outputs": [
        {
          "output_type": "stream",
          "name": "stdout",
          "text": [
            "<class 'int'>\n"
          ]
        }
      ]
    },
    {
      "cell_type": "code",
      "source": [
        "f_value=29.4\n",
        "print(type(f_value))"
      ],
      "metadata": {
        "colab": {
          "base_uri": "https://localhost:8080/"
        },
        "id": "YwYW98F5090Z",
        "outputId": "0bd0363e-b480-4df6-847d-722721398136"
      },
      "execution_count": null,
      "outputs": [
        {
          "output_type": "stream",
          "name": "stdout",
          "text": [
            "<class 'float'>\n"
          ]
        }
      ]
    },
    {
      "cell_type": "code",
      "source": [
        "a=19\n",
        "b=12\n",
        "s=a+b\n",
        "sub=a-b\n",
        "mul=a*b\n",
        "div=a/b\n",
        "print(s)\n",
        "print(type(s))\n",
        "print(sub)\n",
        "print(type(sub))\n",
        "print(s)\n",
        "print(type(s))\n",
        "print(mul)\n",
        "print(type(mul))\n",
        "print(div)\n",
        "print(type(div))"
      ],
      "metadata": {
        "colab": {
          "base_uri": "https://localhost:8080/"
        },
        "id": "2MgCJvHO1A8z",
        "outputId": "1e6456e3-6d8d-4223-91d0-a2412269a950"
      },
      "execution_count": null,
      "outputs": [
        {
          "output_type": "stream",
          "name": "stdout",
          "text": [
            "31\n",
            "<class 'int'>\n",
            "7\n",
            "<class 'int'>\n",
            "31\n",
            "<class 'int'>\n",
            "228\n",
            "<class 'int'>\n",
            "1.5833333333333333\n",
            "<class 'float'>\n"
          ]
        }
      ]
    },
    {
      "cell_type": "code",
      "source": [
        "a=32\n",
        "b=4\n",
        "d=a/b\n",
        "c=a//b\n",
        "print(c)\n",
        "print(d)"
      ],
      "metadata": {
        "colab": {
          "base_uri": "https://localhost:8080/"
        },
        "id": "Zkoks34W1e1T",
        "outputId": "13900f77-402b-4b98-862d-acf028dc811f"
      },
      "execution_count": null,
      "outputs": [
        {
          "output_type": "stream",
          "name": "stdout",
          "text": [
            "8\n",
            "8.0\n"
          ]
        }
      ]
    },
    {
      "cell_type": "code",
      "source": [
        "a=23.1\n",
        "b=23\n",
        "c=a+b\n",
        "d=a-b\n",
        "e=a*b\n",
        "f=a/b\n",
        "print(a,b,c,d,e,f)"
      ],
      "metadata": {
        "colab": {
          "base_uri": "https://localhost:8080/"
        },
        "id": "KmlzqLIS1_BF",
        "outputId": "a23ab807-326e-450c-efec-6ed17751d4d3"
      },
      "execution_count": null,
      "outputs": [
        {
          "output_type": "stream",
          "name": "stdout",
          "text": [
            "23.1 23 46.1 0.10000000000000142 531.3000000000001 1.0043478260869565\n"
          ]
        }
      ]
    },
    {
      "cell_type": "code",
      "source": [
        "from decimal import Decimal\n",
        "Decimal(0.4)"
      ],
      "metadata": {
        "colab": {
          "base_uri": "https://localhost:8080/"
        },
        "id": "xbM27FRu3Emk",
        "outputId": "680167d5-d358-4e07-ffeb-e0a2af00ce87"
      },
      "execution_count": null,
      "outputs": [
        {
          "output_type": "execute_result",
          "data": {
            "text/plain": [
              "Decimal('0.40000000000000002220446049250313080847263336181640625')"
            ]
          },
          "metadata": {},
          "execution_count": 12
        }
      ]
    },
    {
      "cell_type": "code",
      "source": [
        "a=0.3\n",
        "b=0.4\n",
        "a+b"
      ],
      "metadata": {
        "colab": {
          "base_uri": "https://localhost:8080/"
        },
        "id": "2BAQILap4wFR",
        "outputId": "47d4b974-f9eb-48c5-a402-0f6a9d691501"
      },
      "execution_count": null,
      "outputs": [
        {
          "output_type": "execute_result",
          "data": {
            "text/plain": [
              "0.7"
            ]
          },
          "metadata": {},
          "execution_count": 13
        }
      ]
    },
    {
      "cell_type": "markdown",
      "source": [],
      "metadata": {
        "id": "O5lJNci877i0"
      }
    },
    {
      "cell_type": "code",
      "source": [
        "s=43.545343\n",
        "round(s,4)#rounding off"
      ],
      "metadata": {
        "colab": {
          "base_uri": "https://localhost:8080/"
        },
        "id": "8q5Jvf7r4-xF",
        "outputId": "d6cc949e-029d-4a9a-cdde-ccc38b12a79c"
      },
      "execution_count": null,
      "outputs": [
        {
          "output_type": "execute_result",
          "data": {
            "text/plain": [
              "43.5453"
            ]
          },
          "metadata": {},
          "execution_count": 16
        }
      ]
    },
    {
      "cell_type": "code",
      "source": [
        "a=complex(10)\n",
        "print(a)\n",
        "print(type(a))"
      ],
      "metadata": {
        "colab": {
          "base_uri": "https://localhost:8080/"
        },
        "id": "uQx8wOQN5ox5",
        "outputId": "f812dcad-3ee6-43ec-870f-d203802ab358"
      },
      "execution_count": null,
      "outputs": [
        {
          "output_type": "stream",
          "name": "stdout",
          "text": [
            "(10+0j)\n",
            "<class 'complex'>\n"
          ]
        }
      ]
    },
    {
      "cell_type": "code",
      "source": [
        "a=435\n",
        "b=5\n",
        "c=a/b\n",
        "print(c)\n",
        "print(type(c))"
      ],
      "metadata": {
        "colab": {
          "base_uri": "https://localhost:8080/"
        },
        "id": "kKPyWuyL7_t-",
        "outputId": "a480163d-468a-4516-dcf4-b9fa30e5a2f8"
      },
      "execution_count": null,
      "outputs": [
        {
          "output_type": "stream",
          "name": "stdout",
          "text": [
            "87.0\n",
            "<class 'float'>\n"
          ]
        }
      ]
    },
    {
      "cell_type": "code",
      "source": [],
      "metadata": {
        "id": "RYX2gWuO8dTg"
      },
      "execution_count": null,
      "outputs": []
    },
    {
      "cell_type": "markdown",
      "source": [
        "**List**"
      ],
      "metadata": {
        "id": "CmEf4o5r8nYP"
      }
    },
    {
      "cell_type": "code",
      "source": [
        "new_list=[23,557,6,4,3,2,1,64,\"python Lover\"]\n",
        "print(new_list)\n",
        "print(type(new_list))"
      ],
      "metadata": {
        "colab": {
          "base_uri": "https://localhost:8080/"
        },
        "id": "uCVIu9ns8pgy",
        "outputId": "7c554792-b2de-40fd-c798-8435b81d6572"
      },
      "execution_count": null,
      "outputs": [
        {
          "output_type": "stream",
          "name": "stdout",
          "text": [
            "[23, 557, 6, 4, 3, 2, 1, 64, 'python Lover']\n",
            "<class 'list'>\n"
          ]
        }
      ]
    },
    {
      "cell_type": "code",
      "source": [
        "print(new_list[0])\n",
        "\n",
        "print(new_list[-1])#0 1 2 3 4\n",
        "              #    -5 -4 -3 -2 -1\n"
      ],
      "metadata": {
        "colab": {
          "base_uri": "https://localhost:8080/"
        },
        "id": "L5UaQZvg8way",
        "outputId": "7fe7b072-97fe-4432-8ffd-eb3366654d67"
      },
      "execution_count": null,
      "outputs": [
        {
          "output_type": "stream",
          "name": "stdout",
          "text": [
            "23\n",
            "python Lover\n"
          ]
        }
      ]
    },
    {
      "cell_type": "code",
      "source": [
        "len(new_list)"
      ],
      "metadata": {
        "colab": {
          "base_uri": "https://localhost:8080/"
        },
        "id": "VcLSGPEW905X",
        "outputId": "f03faa6a-d30f-4d27-861d-cc6e83822a15"
      },
      "execution_count": null,
      "outputs": [
        {
          "output_type": "execute_result",
          "data": {
            "text/plain": [
              "9"
            ]
          },
          "metadata": {},
          "execution_count": 22
        }
      ]
    },
    {
      "cell_type": "code",
      "source": [
        "name=\"Sourabh\"\n",
        "print(name[0])\n",
        "print(name[1])\n",
        "print(name[2])\n",
        "print(name[3])\n",
        "print(name[4])\n",
        "print(name[5])\n",
        "print(name[6])\n",
        "print(name[-1])\n",
        "print(name[-2])\n",
        "print(name[-3])\n",
        "print(name[-4])\n",
        "print(name[-5])\n",
        "print(name[-6])\n",
        "print(name[-7])\n"
      ],
      "metadata": {
        "colab": {
          "base_uri": "https://localhost:8080/"
        },
        "id": "ca-Tp9Tq-J1i",
        "outputId": "4da0b82a-ae0e-4642-8eec-3c0c8c407655"
      },
      "execution_count": null,
      "outputs": [
        {
          "output_type": "stream",
          "name": "stdout",
          "text": [
            "S\n",
            "o\n",
            "u\n",
            "r\n",
            "a\n",
            "b\n",
            "h\n",
            "h\n",
            "b\n",
            "a\n",
            "r\n",
            "u\n",
            "o\n",
            "S\n"
          ]
        }
      ]
    },
    {
      "cell_type": "code",
      "source": [
        "lovelyt=(23,557,6,4,3,2,1,64,\"python Lover\")#tuples and lists are immutable\n",
        "print(lovelyt)\n",
        "print(type(lovelyt))"
      ],
      "metadata": {
        "colab": {
          "base_uri": "https://localhost:8080/"
        },
        "id": "JFAJ6TMN_dPj",
        "outputId": "92006d42-01ac-49e9-eff6-7e0b957df548"
      },
      "execution_count": null,
      "outputs": [
        {
          "output_type": "stream",
          "name": "stdout",
          "text": [
            "(23, 557, 6, 4, 3, 2, 1, 64, 'python Lover')\n",
            "<class 'tuple'>\n"
          ]
        }
      ]
    },
    {
      "cell_type": "code",
      "source": [
        "new_slit1=[3,5,7]\n",
        "new_tuple1=tuple(new_slit1)\n",
        "print(new_tuple1)"
      ],
      "metadata": {
        "colab": {
          "base_uri": "https://localhost:8080/"
        },
        "id": "Q-0yCul4AkEp",
        "outputId": "7d742631-7744-47d8-dd42-d45526bc154a"
      },
      "execution_count": null,
      "outputs": [
        {
          "output_type": "stream",
          "name": "stdout",
          "text": [
            "(3, 5, 7)\n"
          ]
        }
      ]
    },
    {
      "cell_type": "code",
      "source": [],
      "metadata": {
        "id": "wQBASR59Bdbh"
      },
      "execution_count": null,
      "outputs": []
    }
  ]
}